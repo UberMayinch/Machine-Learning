{
 "cells": [
  {
   "cell_type": "code",
   "execution_count": 600,
   "metadata": {},
   "outputs": [],
   "source": [
    "import pandas as pd\n",
    "import numpy as np\n",
    "import sklearn as sk\n",
    "from sklearn import linear_model as lm\n",
    "from sklearn.preprocessing import PolynomialFeatures as pf\n",
    "import matplotlib.pyplot as plt\n",
    "import pickle\n",
    "import random\n",
    "from functools import partial"
   ]
  },
  {
   "cell_type": "markdown",
   "metadata": {},
   "source": [
    "## Task 1\n",
    "---\n",
    "### Task 1(a)"
   ]
  },
  {
   "cell_type": "markdown",
   "metadata": {},
   "source": [
    "From multivariable calculus, we know that the gradient of a multivariable function represents the direction of steepest ascent. Hence, the negative of the gradient represents the direction of steepest descent.\n",
    "\n",
    "Mathematically it is represented as a matrix of the partial derivatives of the function:\n",
    "$$\\nabla f = \\begin{bmatrix}\n",
    "\\frac{\\partial f}{\\partial x_1} \\\\\n",
    "\\frac{\\partial f}{\\partial x_2} \\\\\n",
    "\\vdots \\\\\n",
    "\\frac{\\partial f}{\\partial x_n}\n",
    "\\end{bmatrix}$$\n",
    "\n",
    "We use this property for the optimization algorithm known as gradient descent. Here the objective is to minimize a cost function that may change depending on the context. The cost function is chosen such that minimizing it brings us the closest to the objective value.\n",
    "\n",
    "For example, for Linear regression the cost function may be the MSE (Mean Squared Error). By minimizing the MSE, we are in a sense obtaining the line that best fits the dataset. The MSE is a function of the parameters of the linear model, \\(m\\) and \\(b\\), and can be represented as:\n",
    "\n",
    "$$\n",
    "MSE(m, b) = \\frac{1}{n} \\sum_{i=1}^{n} (y_i - (mx_i + b))^2\n",
    "$$\n",
    "\n",
    "where $y_i$ is the actual target value, $(x_i)$ is the corresponding feature value, and $(n)$ is the number of data points.\n",
    "\n",
    "To minimize this cost function, we ue gradient descent. Using the property described earlier, we move in the opposite direction of the gradient to descend towards the minimum of the function.\n",
    "\n",
    "The gradient of the MSE with respect to the parameters $m$ and $b$ can be calculated as follows:\n",
    "\n",
    "$$\n",
    "\\nabla MSE(m, b) = \\begin{bmatrix}\n",
    "\\frac{\\partial MSE}{\\partial m} \\\\\n",
    "\\frac{\\partial MSE}{\\partial b}\n",
    "\\end{bmatrix}\n",
    "$$\n",
    "\n",
    "Where\n",
    "\n",
    "$$\n",
    "\\frac{\\partial MSE}{\\partial m} = -\\frac{2}{n} \\sum_{i=1}^{n} x_i(y_i - (mx_i + b))\n",
    "$$\n",
    "\n",
    "and\n",
    "\n",
    "$$\n",
    "\\frac{\\partial MSE}{\\partial b} = -\\frac{2}{n} \\sum_{i=1}^{n} (y_i - (mx_i + b))\n",
    "$$\n",
    "\n",
    "Once we have the gradient, we update the parameters \\(m\\) and \\(b\\) iteratively using the following update rule:\n",
    "\n",
    "$$\n",
    "m := m - \\alpha \\frac{\\partial (MSE)}{\\partial m}\n",
    "$$\n",
    "\n",
    "$$\n",
    "b := b - \\alpha \\frac{\\partial (MSE)}{\\partial b}\n",
    "$$\n",
    "\n",
    "Here, $\\alpha$ is the learning rate, which determines the size of the steps we take in the direction of the negative gradient. By repeating this process iteratively, we gradually approach the values of \\(m\\) and \\(b\\) that minimize the MSE, thereby obtaining the best-fitting line for the given dataset. We know this minima is reached if further iterations do not reduce the value of our cost function.\n",
    "\n"
   ]
  },
  {
   "cell_type": "markdown",
   "metadata": {},
   "source": [
    "### Task 1(b)"
   ]
  },
  {
   "cell_type": "markdown",
   "metadata": {},
   "source": [
    "\n",
    "In the case of multiple linear regression, we have $m$ independent variables $(x_1, x_2, \\ldots, x_m)$, and the linear model can be represented as:\n",
    "\n",
    "$$\n",
    "y = b + m_1x_1 + m_2x_2 + \\ldots + m_mx_m\n",
    "$$\n",
    "\n",
    "where \\(y\\) is the dependent variable (the target we want to predict), \\(m_i\\) is the coefficient for the \\(i\\)-th independent variable \\(x_i\\), and \\(b\\) is the y-intercept.\n",
    "\n",
    "The MSE for multiple linear regression can be expressed as:\n",
    "\n",
    "$$\n",
    "MSE(m_1, m_2, \\ldots, m_m, b) = \\frac{1}{n} \\sum_{i=1}^{n} (y_i - (m_1x_{i1} + m_2x_{i2} + \\ldots + m_mx_{im} + b))^2\n",
    "$$\n",
    "\n",
    "where \\(x_{i1}, x_{i2}, \\ldots, x_{im}\\) are the feature values of the \\(i\\)-th data point.\n",
    "\n",
    "To minimize this cost function using gradient descent, the process reamains exactly the same. We need to compute the gradient of the MSE with respect to each parameter \\(m_i\\) and \\(b\\) which can be expressed as:\n",
    "\n",
    "$$\n",
    "\\nabla MSE(m_1, m_2, \\ldots, m_m, b) = \\begin{bmatrix}\n",
    "\\frac{\\partial MSE}{\\partial m_1} \\\\\n",
    "\\frac{\\partial MSE}{\\partial m_2} \\\\\n",
    "\\vdots \\\\\n",
    "\\frac{\\partial MSE}{\\partial m_m} \\\\\n",
    "\\frac{\\partial MSE}{\\partial b}\n",
    "\\end{bmatrix}\n",
    "$$\n",
    "\n",
    "The partial derivatives of the MSE with respect to each parameter can be calculated as follows:\n",
    "\n",
    "$$\n",
    "\\frac{\\partial MSE}{\\partial m_i} = -\\frac{2}{n} \\sum_{i=1}^{n} x_{ij}(y_i - (m_1x_{i1} + m_2x_{i2} + \\ldots + m_mx_{im} + b))\n",
    "$$\n",
    "\n",
    "$$\n",
    "\\frac{\\partial MSE}{\\partial b} = -\\frac{2}{n} \\sum_{i=1}^{n} (y_i - (m_1x_{i1} + m_2x_{i2} + \\ldots + m_mx_{im} + b))\n",
    "$$\n",
    "\n",
    "Once we have the gradient, we update each parameter $m_i$ and $b$ iteratively using the following update rules:\n",
    "\n",
    "$$\n",
    "m_i := m_i - \\alpha \\frac{\\partial (MSE)}{\\partial m_i}\n",
    "$$\n",
    "\n",
    "$$\n",
    "b := b - \\alpha \\frac{\\partial (MSE)}{\\partial b}\n",
    "$$\n",
    "\n",
    "Here, $\\alpha$ is the learning rate, which determines the size of the steps we take in the direction of the negative gradient. By repeating this process iteratively, we gradually approach the values of $m_i$ and $b$ that minimize the MSE, thereby obtaining the best-fitting line for the given dataset with multiple independent variables."
   ]
  },
  {
   "cell_type": "markdown",
   "metadata": {},
   "source": [
    "## Task 2\n",
    "---"
   ]
  },
  {
   "cell_type": "code",
   "execution_count": 601,
   "metadata": {},
   "outputs": [
    {
     "name": "stdout",
     "output_type": "stream",
     "text": [
      "22\n",
      "[5, 0, 1, 4, 11, 22]\n"
     ]
    }
   ],
   "source": [
    "x = [-2, -1, 0, 1, 2, 3]\n",
    "y = [5, 0, 1, 4, 11, 22]\n",
    "\n",
    "def func1(x):\n",
    "    return 2*x**2+3*x+1\n",
    "\n",
    "def func2(x):\n",
    "    return x**2+3*x\n",
    "\n",
    "def func3(x):\n",
    "    return 2*x**2+2*x+1\n",
    "\n",
    "def trueVal(x_vals, y_vals, x):\n",
    "    lst_zip=list(zip(x_vals, y_vals))\n",
    "    for zip_tuple in lst_zip:\n",
    "        try:\n",
    "            if zip_tuple[0] == x:\n",
    "                return zip_tuple[1]\n",
    "        except:\n",
    "            print(f\"shaope {np.shape(zip_tuple[0])}\")\n",
    "\n",
    "models = [func1, func2, func3]\n",
    "print(trueVal(x, y, 3))\n",
    "print(y)\n",
    "# print(list(map(func, x)))"
   ]
  },
  {
   "cell_type": "code",
   "execution_count": 602,
   "metadata": {},
   "outputs": [
    {
     "name": "stdout",
     "output_type": "stream",
     "text": [
      "[-2, -1, 0, 1, 2, 3]\n",
      "8.111111111111112\n",
      "5.481481481481481\n",
      "2.6296296296296298\n"
     ]
    }
   ],
   "source": [
    "def expecOverVals(func, x_vals):\n",
    "    E_x=np.mean(np.array(list(map(func, x_vals))))\n",
    "    return E_x\n",
    "\n",
    "def expecOverModels(models, x):\n",
    "    sum = 0\n",
    "    for func in models:\n",
    "        # print(func(x))\n",
    "        sum+=func(x)\n",
    "    return sum / len(models)\n",
    "\n",
    "def bias(models, trueVal, x_vals, y_vals, x):    \n",
    "    return expecOverModels(models, x) - trueVal(x_vals, y_vals ,x)\n",
    "\n",
    "def variance(models, x):\n",
    "    E_x = expecOverModels(models, x)\n",
    "    var = 0\n",
    "    for func in models:\n",
    "        var += (func(x) - E_x)**2\n",
    "    return var / len(models)\n",
    "\n",
    "def mse(models, x_vals, y_vals, trueVal, x):\n",
    "    y = trueVal(x_vals, y_vals, x)\n",
    "    var = 0\n",
    "    for func in models: \n",
    "        var += (y - func(x))**2    \n",
    "    return var / len(models)\n",
    "\n",
    "tot_bias = 0\n",
    "tot_var = 0\n",
    "tot_mse = 0\n",
    "print(x)\n",
    "for t in x:\n",
    "    tot_bias +=(bias(models, trueVal, x, y, t))**2\n",
    "    tot_var += variance(models, t)\n",
    "    tot_mse += mse(models, x, y, trueVal, t)\n",
    "\n",
    "bias_sq_final = tot_bias / len(x)\n",
    "var_final = tot_var / len(x)\n",
    "mse_final = tot_mse/len(x)\n",
    "\n",
    "print(mse_final)\n",
    "print(var_final)\n",
    "print(bias_sq_final)"
   ]
  },
  {
   "cell_type": "code",
   "execution_count": 603,
   "metadata": {},
   "outputs": [
    {
     "data": {
      "text/plain": [
       "1.7763568394002505e-15"
      ]
     },
     "execution_count": 603,
     "metadata": {},
     "output_type": "execute_result"
    }
   ],
   "source": [
    "mse_final - var_final - bias_sq_final\n",
    "\n",
    "## This is approximately zero, accounting for rounding error and floating point accuracy."
   ]
  },
  {
   "cell_type": "markdown",
   "metadata": {},
   "source": [
    "## Task 3\n",
    "---"
   ]
  },
  {
   "cell_type": "markdown",
   "metadata": {},
   "source": [
    "### Task 3.1"
   ]
  },
  {
   "cell_type": "code",
   "execution_count": 604,
   "metadata": {},
   "outputs": [],
   "source": [
    "file_path='data.pickle'\n",
    "\n",
    "with open(file_path, 'rb') as f:\n",
    "    data = pickle.load(f)\n",
    "\n"
   ]
  },
  {
   "cell_type": "code",
   "execution_count": 605,
   "metadata": {},
   "outputs": [
    {
     "name": "stdout",
     "output_type": "stream",
     "text": [
      "[[28.53       20.50284604]\n",
      " [12.89       22.58147766]\n",
      " [43.6        20.0128624 ]\n",
      " [53.61       19.99694445]\n",
      " [75.77       19.15685586]\n",
      " [13.15       22.52776216]\n",
      " [95.42       15.35569432]\n",
      " [59.72       19.95507027]\n",
      " [62.16       19.91217663]\n",
      " [82.15       18.35844578]\n",
      " [87.37       17.41791221]\n",
      " [83.02       18.22101763]\n",
      " [56.13       19.98829552]\n",
      " [41.88       20.02700685]\n",
      " [ 3.7        25.00405315]\n",
      " [53.81       19.9965631 ]\n",
      " [47.61       19.99977294]\n",
      " [44.99       20.00573948]\n",
      " [ 0.19       26.22714303]\n",
      " [48.56       19.99917637]\n",
      " [51.71       19.99882557]\n",
      " [17.31       21.76673153]\n",
      " [88.76       17.11790408]\n",
      " [43.49       20.01357722]\n",
      " [54.24       19.9955907 ]\n",
      " [11.79       22.81715582]\n",
      " [60.58       19.94213017]\n",
      " [20.18       21.34233196]\n",
      " [ 1.18       25.8640405 ]\n",
      " [17.16       21.79108143]\n",
      " [99.1        14.12916865]\n",
      " [26.28       20.67730471]\n",
      " [89.31       16.99305845]\n",
      " [33.83       20.21546528]\n",
      " [64.29       19.85732315]\n",
      " [ 3.81       24.96856385]\n",
      " [92.02       16.32503929]\n",
      " [94.23       15.71222641]\n",
      " [ 8.75       23.54209141]\n",
      " [17.3        21.76834795]\n",
      " [87.03       17.48797922]\n",
      " [41.87       20.02710903]\n",
      " [ 1.29       25.8245896 ]\n",
      " [19.97       21.37078977]\n",
      " [95.73       15.25967793]\n",
      " [74.01       19.31870534]\n",
      " [80.07       18.65791273]\n",
      " [ 7.36       23.91127458]\n",
      " [76.31       19.10249714]\n",
      " [ 3.62       25.02996939]\n",
      " [ 3.09       25.20392743]\n",
      " [67.03       19.75801792]\n",
      " [82.04       18.37529995]\n",
      " [30.3        20.38883345]\n",
      " [62.22       19.91086912]\n",
      " [81.99       18.38292262]\n",
      " [71.28       19.52644951]\n",
      " [71.65       19.50119884]\n",
      " [38.64       20.07476756]\n",
      " [ 9.78       23.2840417 ]\n",
      " [39.38       20.061038  ]\n",
      " [50.99       19.99898099]\n",
      " [27.37       20.58847631]\n",
      " [63.5        19.87976125]\n",
      " [43.35       20.01452193]\n",
      " [ 0.74       26.02362509]\n",
      " [41.62       20.02974471]\n",
      " [52.31       19.9985135 ]\n",
      " [86.4        17.614436  ]\n",
      " [22.75       21.02532016]\n",
      " [68.91       19.66824131]\n",
      " [ 0.72       26.03094691]\n",
      " [42.34       20.02256967]\n",
      " [79.18       18.77402302]\n",
      " [58.96       19.96472908]\n",
      " [82.03       18.3768264 ]\n",
      " [58.45       19.97034499]\n",
      " [62.94       19.89414226]\n",
      " [ 5.69       24.38768417]\n",
      " [50.48       19.99900388]]\n"
     ]
    }
   ],
   "source": [
    "train_data=data['train']\n",
    "test_data=data['test']\n",
    "print(test_data)\n",
    "\n",
    "class_size = len(train_data) // 15\n",
    "random.shuffle(train_data)\n",
    "train_classes = []\n",
    "\n",
    "for i in range(15):\n",
    "    class_data = train_data[i * class_size: (i + 1) * class_size]\n",
    "    train_classes.append(class_data)\n"
   ]
  },
  {
   "cell_type": "markdown",
   "metadata": {},
   "source": [
    "### Task 3.2"
   ]
  },
  {
   "cell_type": "code",
   "execution_count": 606,
   "metadata": {},
   "outputs": [],
   "source": [
    "def predictFromModel(model, x):\n",
    "    x = np.array(x)\n",
    "    if np.shape(x) == ():\n",
    "        x = x.reshape(1,-1)\n",
    "    else:\n",
    "        x=x.reshape(1,-1)\n",
    "    # print(np.shape(x))\n",
    "    \n",
    "    return model.predict(x)\n",
    "\n",
    "def partialPredict(model):\n",
    "    return partial(predictFromModel, model)\n",
    "\n"
   ]
  },
  {
   "cell_type": "code",
   "execution_count": 607,
   "metadata": {},
   "outputs": [],
   "source": [
    "\n",
    "model_biases_linear = []\n",
    "model_variances_linear = []\n",
    "model_list_linear=[]\n",
    "\n",
    "test_inp, test_out = [val_tups[0] for val_tups in test_data], [val_tups[1] for val_tups in test_data]\n",
    "\n",
    "def train_linear_models(train_classes) :\n",
    "    models_linear = []\n",
    "    for eq_class in train_classes:\n",
    "        x_vals=[]\n",
    "        y_vals=[]\n",
    "        for val_tups in eq_class:\n",
    "            x_vals.append(val_tups[0])\n",
    "            y_vals.append(val_tups[1])\n",
    "\n",
    "        x_val_arr = np.array(x_vals)\n",
    "        x_val_arr = x_val_arr.reshape(-1, 1)\n",
    "        y_val_arr = np.array(y_vals)\n",
    "        y_val_arr = y_val_arr.reshape(-1, 1)\n",
    "\n",
    "        # print(np.shape(x_val_arr))\n",
    "        model = lm.LinearRegression().fit(x_val_arr, y_val_arr)\n",
    "        models_linear.append(model)\n",
    "        \n",
    "    return models_linear\n",
    "\n",
    "predictors_linear = train_linear_models(train_classes)\n",
    "\n"
   ]
  },
  {
   "cell_type": "code",
   "execution_count": 608,
   "metadata": {},
   "outputs": [
    {
     "name": "stdout",
     "output_type": "stream",
     "text": [
      "[[0.98154919]]\n"
     ]
    }
   ],
   "source": [
    "def create_model_list(predictor_list):\n",
    "    model_list = []\n",
    "    for model in predictor_list:\n",
    "        model_list.append(partialPredict(model))\n",
    "    return model_list\n",
    "\n",
    "model_list_linear = create_model_list(predictors_linear)\n",
    "bias_total = 0\n",
    "\n",
    "for tc in test_inp:\n",
    "    bias_total += (bias(model_list_linear, trueVal, test_inp, test_out, tc))**2\n",
    "\n",
    "print(bias_total / len(test_inp))\n"
   ]
  },
  {
   "cell_type": "code",
   "execution_count": 609,
   "metadata": {},
   "outputs": [
    {
     "name": "stdout",
     "output_type": "stream",
     "text": [
      "[[25.53023236]]\n"
     ]
    }
   ],
   "source": [
    "def train_models(train_classes, degree) :\n",
    "    poly_models = []\n",
    "    for eq_class in train_classes:\n",
    "        x_vals=[]\n",
    "        y_vals=[]\n",
    "        for val_tups in eq_class:\n",
    "            x_vals.append(val_tups[0])\n",
    "            y_vals.append(val_tups[1])\n",
    "\n",
    "        x_val_arr = np.array(x_vals)\n",
    "        x_val_arr = x_val_arr.reshape(-1, 1)\n",
    "        y_val_arr = np.array(y_vals)\n",
    "        y_val_arr = y_val_arr.reshape(-1, 1)\n",
    "\n",
    "        poly = pf(degree)\n",
    "        x_pol_arr = poly.fit_transform(x_val_arr)\n",
    "        model = lm.LinearRegression().fit(x_pol_arr, y_val_arr)\n",
    "        poly_models.append(model)\n",
    "        \n",
    "    return poly_models\n",
    "\n",
    "degree = 3\n",
    "predictors = train_models(train_classes, degree)\n",
    "x = np.array([1, 2, 4, 8])\n",
    "x = x.reshape(1, -1)\n",
    "print(predictors[1].predict(x))\n",
    "\n"
   ]
  },
  {
   "cell_type": "code",
   "execution_count": 617,
   "metadata": {},
   "outputs": [
    {
     "name": "stdout",
     "output_type": "stream",
     "text": [
      "[array([[-0.21732065]]), array([[-0.20182878]]), array([[0.04720676]]), array([[0.05807264]]), array([[0.04117332]]), array([[0.04050951]]), array([[0.03935146]]), array([[0.0191335]]), array([[-0.01071052]]), array([[-0.0349803]])]\n",
      "[array([[0.98154919]]), array([[0.91164796]]), array([[0.03104775]]), array([[0.04047747]]), array([[0.03708453]]), array([[0.03576668]]), array([[0.03413331]]), array([[0.04373725]]), array([[0.10811752]]), array([[0.26030045]])]\n",
      "[0.9815491889914443, 0.9116479643482144, 0.031047753888678004, 0.040477469480774644, 0.037084531475753295, 0.03576667791648854, 0.03413331097843926, 0.04373724738105357, 0.10811751878726343, 0.26030044695887267]\n"
     ]
    }
   ],
   "source": [
    "bias_final_lst = []\n",
    "bias_sqr_final_lst = []\n",
    "\n",
    "for degree in range(1, 11):\n",
    "    predictors = train_models(train_classes, degree)\n",
    "    bias = 0\n",
    "    bias_sqr = 0\n",
    "\n",
    "    for val_tups in test_data:\n",
    "        t = val_tups[0]\n",
    "        test_out = val_tups[1]\n",
    "        tc = []\n",
    "        for d in range(degree+1):\n",
    "            tc.append(t ** d)\n",
    "        # print(tc)\n",
    "        tc = np.array(tc)\n",
    "        tc = tc.reshape(1, -1)\n",
    "\n",
    "        ## Expectation over all models for a given test case\n",
    "        expec = 0\n",
    "        for model_final in predictors: \n",
    "            expec += model_final.predict(tc)  \n",
    "        \n",
    "        expec = expec / len(predictors) \n",
    "        bias += (expec - test_out)\n",
    "        bias_sqr += (expec - test_out)**2\n",
    "\n",
    "    bias = bias / len(test_data)\n",
    "    bias_sqr = bias_sqr / len(test_data)\n",
    "    bias_final_lst.append(bias)\n",
    "    bias_sqr_final_lst.append(bias_sqr)\n",
    "\n",
    "print(bias_final_lst)\n",
    "print(bias_sqr_final_lst)\n",
    "scalar_list_bias_sqr = np.array(bias_sqr_final_lst).ravel().tolist()\n",
    "scalar_list_bias = np.array(bias_final_lst).ravel().tolist()\n",
    "print(scalar_list_bias_sqr)\n"
   ]
  },
  {
   "cell_type": "code",
   "execution_count": 611,
   "metadata": {},
   "outputs": [
    {
     "name": "stdout",
     "output_type": "stream",
     "text": [
      "[array([[0.14811159]]), array([[0.33563061]]), array([[0.23639829]]), array([[0.29950192]]), array([[0.29597578]]), array([[0.22169102]]), array([[0.21582707]]), array([[0.26505139]]), array([[0.21141368]]), array([[0.11995415]])]\n",
      "[0.1481115919319427, 0.33563061078557044, 0.23639829165904377, 0.29950192381702795, 0.29597578224744747, 0.22169102490182832, 0.21582707233632445, 0.2650513915278599, 0.21141368015790535, 0.11995414522238021]\n"
     ]
    }
   ],
   "source": [
    "var_final_lst = []\n",
    "\n",
    "model_expecs = []\n",
    "for model_final in predictors:\n",
    "    expec = 0\n",
    "    for val_tups in test_data:\n",
    "        t = val_tups[0]\n",
    "        tc = []\n",
    "        for d in range(degree+1):\n",
    "            tc.append(t ** d)\n",
    "        tc = np.array(tc)\n",
    "        tc = tc.reshape(1, -1)\n",
    "\n",
    "        expec += model_final.predict(tc)\n",
    "\n",
    "    model_expecs.append(expec / len(test_data))\n",
    "\n",
    "\n",
    "for degree in range(1, 11):\n",
    "    predictors = train_models(train_classes, degree)\n",
    "    var = 0\n",
    "\n",
    "    for val_tups in test_data:\n",
    "        t = val_tups[0]\n",
    "        test_out = val_tups[1]\n",
    "        tc = []\n",
    "\n",
    "        for d in range(degree+1):\n",
    "            tc.append(t ** d)\n",
    "        tc = np.array(tc)\n",
    "        tc = tc.reshape(1, -1)\n",
    "\n",
    "        ## Expectation over all models for a given test case\n",
    "        var = 0\n",
    "        for idx in range(len(predictors)): \n",
    "            var += (predictors[idx].predict(tc) - model_expecs[idx])**2 \n",
    "        \n",
    "        var = var / len(predictors) \n",
    "\n",
    "    var_final_lst.append(var)\n",
    "\n",
    "print(var_final_lst)\n",
    "scalar_list_var = np.array(var_final_lst).ravel().tolist()\n",
    "print(scalar_list_var)\n"
   ]
  },
  {
   "cell_type": "code",
   "execution_count": 612,
   "metadata": {},
   "outputs": [
    {
     "name": "stdout",
     "output_type": "stream",
     "text": [
      "[array([[1.03103856]]), array([[1.00606044]]), array([[0.17120386]]), array([[0.23295884]]), array([[0.27259421]]), array([[0.27907159]]), array([[0.32479675]]), array([[0.31746318]]), array([[0.36123613]]), array([[0.51921623]])]\n",
      "[1.031038558812385, 1.0060604415507972, 0.17120386167216875, 0.23295883823840208, 0.27259421385029126, 0.2790715902910634, 0.32479674531433883, 0.3174631807538569, 0.3612361258273535, 0.5192162273935649]\n"
     ]
    }
   ],
   "source": [
    "mse_final_lst = []\n",
    "\n",
    "for degree in range(1, 11):\n",
    "    predictors = train_models(train_classes, degree)\n",
    "    mse_tot = 0\n",
    "    for val_tups in test_data:\n",
    "        t = val_tups[0]\n",
    "        test_out = val_tups[1]\n",
    "        tc = []\n",
    "\n",
    "        for d in range(degree+1):\n",
    "            tc.append(t ** d)\n",
    "        tc = np.array(tc)\n",
    "        tc = tc.reshape(1, -1)\n",
    "\n",
    "        ## Expectation over all models for a given test case\n",
    "        mse = 0\n",
    "        for idx in range(len(predictors)): \n",
    "            mse += (predictors[idx].predict(tc) - test_out)**2 \n",
    "        \n",
    "        mse = mse / len(predictors) \n",
    "        mse_tot += mse\n",
    "    \n",
    "    mse_tot=mse_tot/len(test_data)\n",
    "    mse_final_lst.append(mse_tot)\n",
    "\n",
    "print(mse_final_lst)\n",
    "scalar_list_mse= np.array(mse_final_lst).ravel().tolist()\n",
    "print(scalar_list_mse)"
   ]
  },
  {
   "cell_type": "code",
   "execution_count": 619,
   "metadata": {},
   "outputs": [
    {
     "name": "stdout",
     "output_type": "stream",
     "text": [
      "|   Polynomial Degree |    Bias^2 |       Bias |   Variance |\n",
      "|--------------------:|----------:|-----------:|-----------:|\n",
      "|                   1 | 0.981549  | -0.217321  |   0.148112 |\n",
      "|                   2 | 0.911648  | -0.201829  |   0.335631 |\n",
      "|                   3 | 0.0310478 |  0.0472068 |   0.236398 |\n",
      "|                   4 | 0.0404775 |  0.0580726 |   0.299502 |\n",
      "|                   5 | 0.0370845 |  0.0411733 |   0.295976 |\n",
      "|                   6 | 0.0357667 |  0.0405095 |   0.221691 |\n",
      "|                   7 | 0.0341333 |  0.0393515 |   0.215827 |\n",
      "|                   8 | 0.0437372 |  0.0191335 |   0.265051 |\n",
      "|                   9 | 0.108118  | -0.0107105 |   0.211414 |\n",
      "|                  10 | 0.2603    | -0.0349803 |   0.119954 |\n"
     ]
    }
   ],
   "source": [
    "df = pd.DataFrame({'Polynomial Degree': x_axis_degrees,\n",
    "                   'Bias^2': scalar_list_bias_sqr,\n",
    "                   'Bias' : scalar_list_bias,\n",
    "                   'Variance': scalar_list_var})\n",
    "\n",
    "print(df.to_markdown(index= False))"
   ]
  },
  {
   "cell_type": "markdown",
   "metadata": {},
   "source": [
    "## Task 4\n",
    "---"
   ]
  },
  {
   "cell_type": "code",
   "execution_count": 614,
   "metadata": {},
   "outputs": [
    {
     "name": "stdout",
     "output_type": "stream",
     "text": [
      "[-0.09862222211100205, -0.2412181335829876, -0.09624218387555303, -0.1070205550594005, -0.06046609987290952, 0.021613887472746507, 0.07483636199957514, 0.008674541844943429, 0.04170492688218469, 0.138961635212312]\n"
     ]
    }
   ],
   "source": [
    "irreduc_err_lst = []\n",
    "for i in range(len(scalar_list_mse)):\n",
    "    irreduc_err = scalar_list_mse[i] - (scalar_list_bias_sqr[i]) - (scalar_list_var[i])\n",
    "    irreduc_err_lst.append(irreduc_err)\n",
    "\n",
    "print(irreduc_err_lst)"
   ]
  },
  {
   "cell_type": "code",
   "execution_count": 615,
   "metadata": {},
   "outputs": [
    {
     "name": "stdout",
     "output_type": "stream",
     "text": [
      "|   Polynomial Degree |   Irreducible error |\n",
      "|--------------------:|--------------------:|\n",
      "|                   1 |         -0.0986222  |\n",
      "|                   2 |         -0.241218   |\n",
      "|                   3 |         -0.0962422  |\n",
      "|                   4 |         -0.107021   |\n",
      "|                   5 |         -0.0604661  |\n",
      "|                   6 |          0.0216139  |\n",
      "|                   7 |          0.0748364  |\n",
      "|                   8 |          0.00867454 |\n",
      "|                   9 |          0.0417049  |\n",
      "|                  10 |          0.138962   |\n"
     ]
    }
   ],
   "source": [
    "df_err = pd.DataFrame({'Polynomial Degree': x_axis_degrees,\n",
    "                   'Irreducible error': irreduc_err_lst})\n",
    "\n",
    "print(df_err.to_markdown(index= False))"
   ]
  },
  {
   "cell_type": "markdown",
   "metadata": {},
   "source": [
    "## Task 5\n",
    "---"
   ]
  },
  {
   "cell_type": "code",
   "execution_count": 616,
   "metadata": {},
   "outputs": [
    {
     "data": {
      "image/png": "[encoded data removed]",
      "text/plain": [
       "<Figure size 640x480 with 1 Axes>"
      ]
     },
     "metadata": {},
     "output_type": "display_data"
    }
   ],
   "source": [
    "\n",
    "x_axis_degrees = [1, 2, 3, 4, 5, 6, 7, 8, 9, 10]\n",
    "\n",
    "plt.plot(x_axis_degrees, scalar_list_bias_sqr, label='Bias$^{2}$')\n",
    "plt.plot(x_axis_degrees, scalar_list_var, label='Variance')\n",
    "plt.plot(x_axis_degrees, scalar_list_mse, label='MSE')\n",
    "\n",
    "plt.xlabel('Polynomial Degree (Model Complexity)')\n",
    "plt.ylabel('Value (units)')\n",
    "plt.title('Bias Square vs Variance Graph')\n",
    "\n",
    "plt.legend()\n",
    "plt.show()\n"
   ]
  },
  {
   "cell_type": "markdown",
   "metadata": {},
   "source": [
    "We have high bias and low variance initially, but as model complexity keeps increasing, the bias decreases whereas the variance is seen to increase.\n",
    "\n",
    "We go from a \\textbf{simple, high bias, low variance} model, that is an \\textbf{underfit} model to a \\textbf{complex, low bias, high variance} model which is an {overfit} model. \n",
    "\n",
    "\n",
    "\n",
    "We observe that the minima for the MSE occurs at polynomial Degree = 3.\n",
    "\n",
    "Therefore the data complexity is best approximated by a univariate polynomial of degree 3. \n",
    "i.e a polynomial of the form: \n",
    "$ax^{3} + b x ^{2} + c x + d$"
   ]
  },
  {
   "cell_type": "markdown",
   "metadata": {},
   "source": []
  }
 ],
 "metadata": {
  "kernelspec": {
   "display_name": "Python 3",
   "language": "python",
   "name": "python3"
  },
  "language_info": {
   "codemirror_mode": {
    "name": "ipython",
    "version": 3
   },
   "file_extension": ".py",
   "mimetype": "text/x-python",
   "name": "python",
   "nbconvert_exporter": "python",
   "pygments_lexer": "ipython3",
   "version": "3.11.7"
  }
 },
 "nbformat": 4,
 "nbformat_minor": 2
}
