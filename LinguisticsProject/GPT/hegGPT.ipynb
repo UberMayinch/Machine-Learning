{
 "cells": [
  {
   "cell_type": "code",
   "execution_count": 24,
   "metadata": {},
   "outputs": [],
   "source": [
    "import tiktoken\n",
    "import torch"
   ]
  },
  {
   "cell_type": "code",
   "execution_count": 25,
   "metadata": {},
   "outputs": [
    {
     "name": "stdout",
     "output_type": "stream",
     "text": [
      "1848542\n"
     ]
    }
   ],
   "source": [
    "with open('corpus.txt', 'r', encoding='utf-8') as f:\n",
    "    text = f.read()\n",
    "\n",
    "print(len(text))"
   ]
  },
  {
   "cell_type": "code",
   "execution_count": 26,
   "metadata": {},
   "outputs": [
    {
     "name": "stdout",
     "output_type": "stream",
     "text": [
      "28\n",
      "\n",
      "   a b c d e f g h i j k l m n o p q r s t u v w x y z\n"
     ]
    }
   ],
   "source": [
    "chars = sorted(list(set(text)))\n",
    "vocab_size=len(chars)\n",
    "print(vocab_size)\n",
    "print(' '.join(chars))"
   ]
  },
  {
   "cell_type": "code",
   "execution_count": 27,
   "metadata": {},
   "outputs": [
    {
     "name": "stdout",
     "output_type": "stream",
     "text": [
      "[9, 10, 10, 1, 21, 9, 6, 19, 6]\n",
      "hii there\n"
     ]
    }
   ],
   "source": [
    "## character level encoding\n",
    "stoi = { ch:i for i,ch in enumerate(chars) }\n",
    "itos = { i:ch for i,ch in enumerate(chars) }\n",
    "encode = lambda s: [stoi[c] for c in s] # encoder: take a string, output a list of integers\n",
    "decode = lambda l: ''.join([itos[i] for i in l]) # decoder: take a list of integers, output a string\n",
    "\n",
    "print(encode(\"hii there\"))\n",
    "print(decode(encode(\"hii there\")))"
   ]
  },
  {
   "cell_type": "code",
   "execution_count": 28,
   "metadata": {},
   "outputs": [
    {
     "data": {
      "text/plain": [
       "'hegel'"
      ]
     },
     "execution_count": 28,
     "metadata": {},
     "output_type": "execute_result"
    }
   ],
   "source": [
    "enc=tiktoken.get_encoding('gpt2')\n",
    "enc.n_vocab\n",
    "# enc.encode(\"hegel\")\n",
    "enc.decode([258, 25280])\n",
    "##subword encodings"
   ]
  },
  {
   "cell_type": "code",
   "execution_count": 29,
   "metadata": {},
   "outputs": [
    {
     "name": "stdout",
     "output_type": "stream",
     "text": [
      "torch.Size([1848542])\n"
     ]
    }
   ],
   "source": [
    "data=torch.tensor(encode(text), dtype=torch.long)\n",
    "print(data.shape)"
   ]
  },
  {
   "cell_type": "code",
   "execution_count": 30,
   "metadata": {},
   "outputs": [],
   "source": [
    "n = int(0.8*len(data))\n",
    "train_data=data[:n]\n",
    "test_data=data[n:]"
   ]
  },
  {
   "cell_type": "code",
   "execution_count": 31,
   "metadata": {},
   "outputs": [
    {
     "data": {
      "text/plain": [
       "tensor([ 0, 17, 19,  6,  7,  2,  4,  6,  1,  2, 13, 21,  9, 16, 22,  8,  9])"
      ]
     },
     "execution_count": 31,
     "metadata": {},
     "output_type": "execute_result"
    }
   ],
   "source": [
    "context_length = 16\n",
    "train_data[:context_length+1]"
   ]
  },
  {
   "cell_type": "code",
   "execution_count": 32,
   "metadata": {},
   "outputs": [
    {
     "name": "stdout",
     "output_type": "stream",
     "text": [
      "when input is tensor([0]) the target: 17\n",
      "when input is tensor([ 0, 17]) the target: 19\n",
      "when input is tensor([ 0, 17, 19]) the target: 6\n",
      "when input is tensor([ 0, 17, 19,  6]) the target: 7\n",
      "when input is tensor([ 0, 17, 19,  6,  7]) the target: 2\n",
      "when input is tensor([ 0, 17, 19,  6,  7,  2]) the target: 4\n",
      "when input is tensor([ 0, 17, 19,  6,  7,  2,  4]) the target: 6\n",
      "when input is tensor([ 0, 17, 19,  6,  7,  2,  4,  6]) the target: 1\n",
      "when input is tensor([ 0, 17, 19,  6,  7,  2,  4,  6,  1]) the target: 2\n",
      "when input is tensor([ 0, 17, 19,  6,  7,  2,  4,  6,  1,  2]) the target: 13\n",
      "when input is tensor([ 0, 17, 19,  6,  7,  2,  4,  6,  1,  2, 13]) the target: 21\n",
      "when input is tensor([ 0, 17, 19,  6,  7,  2,  4,  6,  1,  2, 13, 21]) the target: 9\n",
      "when input is tensor([ 0, 17, 19,  6,  7,  2,  4,  6,  1,  2, 13, 21,  9]) the target: 16\n",
      "when input is tensor([ 0, 17, 19,  6,  7,  2,  4,  6,  1,  2, 13, 21,  9, 16]) the target: 22\n",
      "when input is tensor([ 0, 17, 19,  6,  7,  2,  4,  6,  1,  2, 13, 21,  9, 16, 22]) the target: 8\n",
      "when input is tensor([ 0, 17, 19,  6,  7,  2,  4,  6,  1,  2, 13, 21,  9, 16, 22,  8]) the target: 9\n"
     ]
    }
   ],
   "source": [
    "x = train_data[:context_length]\n",
    "y = train_data[1:context_length+1]\n",
    "for t in range(context_length):\n",
    "    context = x[:t+1]\n",
    "    target = y[t]\n",
    "    print(f\"when input is {context} the target: {target}\")\n",
    "\n",
    "## use context sizes from 1 to context_length because\n",
    "# 1. computationally better\n",
    "# 2. transformer can work on generating with as less as 1 token input\n",
    "# if greater than context size truncation is required\n",
    "#all this will be done in batches processed parallely at same time "
   ]
  },
  {
   "cell_type": "code",
   "execution_count": 33,
   "metadata": {},
   "outputs": [
    {
     "name": "stdout",
     "output_type": "stream",
     "text": [
      "inputs:\n",
      "torch.Size([4, 8])\n",
      "tensor([[22, 19,  6,  1, 19,  6,  7, 13],\n",
      "        [ 1, 20,  6, 13,  7,  1, 12, 15],\n",
      "        [21, 13, 26,  1, 17, 19,  6, 20],\n",
      "        [20, 21, 10,  4,  1, 19,  6,  2]])\n",
      "targets:\n",
      "torch.Size([4, 8])\n",
      "tensor([[19,  6,  1, 19,  6,  7, 13,  6],\n",
      "        [20,  6, 13,  7,  1, 12, 15, 16],\n",
      "        [13, 26,  1, 17, 19,  6, 20,  6],\n",
      "        [21, 10,  4,  1, 19,  6,  2, 13]])\n",
      "----\n",
      "when input is [22] the target: 19\n",
      "when input is [22, 19] the target: 6\n",
      "when input is [22, 19, 6] the target: 1\n",
      "when input is [22, 19, 6, 1] the target: 19\n",
      "when input is [22, 19, 6, 1, 19] the target: 6\n",
      "when input is [22, 19, 6, 1, 19, 6] the target: 7\n",
      "when input is [22, 19, 6, 1, 19, 6, 7] the target: 13\n",
      "when input is [22, 19, 6, 1, 19, 6, 7, 13] the target: 6\n",
      "when input is [1] the target: 20\n",
      "when input is [1, 20] the target: 6\n",
      "when input is [1, 20, 6] the target: 13\n",
      "when input is [1, 20, 6, 13] the target: 7\n",
      "when input is [1, 20, 6, 13, 7] the target: 1\n",
      "when input is [1, 20, 6, 13, 7, 1] the target: 12\n",
      "when input is [1, 20, 6, 13, 7, 1, 12] the target: 15\n",
      "when input is [1, 20, 6, 13, 7, 1, 12, 15] the target: 16\n",
      "when input is [21] the target: 13\n",
      "when input is [21, 13] the target: 26\n",
      "when input is [21, 13, 26] the target: 1\n",
      "when input is [21, 13, 26, 1] the target: 17\n",
      "when input is [21, 13, 26, 1, 17] the target: 19\n",
      "when input is [21, 13, 26, 1, 17, 19] the target: 6\n",
      "when input is [21, 13, 26, 1, 17, 19, 6] the target: 20\n",
      "when input is [21, 13, 26, 1, 17, 19, 6, 20] the target: 6\n",
      "when input is [20] the target: 21\n",
      "when input is [20, 21] the target: 10\n",
      "when input is [20, 21, 10] the target: 4\n",
      "when input is [20, 21, 10, 4] the target: 1\n",
      "when input is [20, 21, 10, 4, 1] the target: 19\n",
      "when input is [20, 21, 10, 4, 1, 19] the target: 6\n",
      "when input is [20, 21, 10, 4, 1, 19, 6] the target: 2\n",
      "when input is [20, 21, 10, 4, 1, 19, 6, 2] the target: 13\n"
     ]
    }
   ],
   "source": [
    "batch_size = 4 # how many independent sequences will we process in parallel?\n",
    "context_length = 8 # what is the maximum context length for predictions?\n",
    "\n",
    "def get_batch(split):\n",
    "    # generate a small batch of data of inputs x and targets y\n",
    "    data = train_data if split == 'train' else val_data\n",
    "    ix = torch.randint(len(data) - context_length, (batch_size,))\n",
    "    x = torch.stack([data[i:i+context_length] for i in ix])\n",
    "    y = torch.stack([data[i+1:i+context_length+1] for i in ix])\n",
    "    return x, y\n",
    "\n",
    "xb, yb = get_batch('train')\n",
    "print('inputs:')\n",
    "print(xb.shape)\n",
    "print(xb)\n",
    "print('targets:')\n",
    "print(yb.shape)\n",
    "print(yb)\n",
    "\n",
    "print('----')\n",
    "\n",
    "for b in range(batch_size): # batch dimension\n",
    "    for t in range(context_length): # time dimension\n",
    "        context = xb[b, :t+1]\n",
    "        target = yb[b,t]\n",
    "        print(f\"when input is {context.tolist()} the target: {target}\")"
   ]
  },
  {
   "cell_type": "code",
   "execution_count": 35,
   "metadata": {},
   "outputs": [
    {
     "name": "stdout",
     "output_type": "stream",
     "text": [
      "torch.Size([32, 28])\n",
      "tensor(4.2440, grad_fn=<NllLossBackward0>)\n",
      "\n",
      "en u\n",
      "nqkpiqhvtybnsvnfkomoty\n",
      "ourqytygmv jkqowbwpbxdzhuleomhtq wiu\n",
      " bcpkqhae ycpwahy\n",
      "haqcscjnsguxjfrqy\n"
     ]
    }
   ],
   "source": [
    "import torch\n",
    "import torch.nn as nn\n",
    "from torch.nn import functional as F\n",
    "torch.manual_seed(1337)\n",
    "\n",
    "class BigramLanguageModel(nn.Module):\n",
    "\n",
    "    def __init__(self, vocab_size):\n",
    "        super().__init__()\n",
    "        # each token directly reads off the logits for the next token from a lookup table\n",
    "        self.token_embedding_table = nn.Embedding(vocab_size, vocab_size)\n",
    "\n",
    "    def forward(self, idx, targets=None):\n",
    "\n",
    "        # idx and targets are both (B,T) tensor of integers\n",
    "        logits = self.token_embedding_table(idx) # (B,T,C)\n",
    "\n",
    "        if targets is None:\n",
    "            loss = None\n",
    "        else:\n",
    "            B, T, C = logits.shape\n",
    "            logits = logits.view(B*T, C)\n",
    "            targets = targets.view(B*T)\n",
    "            loss = F.cross_entropy(logits, targets)\n",
    "\n",
    "        return logits, loss\n",
    "\n",
    "    def generate(self, idx, max_new_tokens):\n",
    "        # idx is (B, T) array of indices in the current context\n",
    "        for _ in range(max_new_tokens):\n",
    "            # get the predictions\n",
    "            logits, loss = self(idx)\n",
    "            # focus only on the last time step\n",
    "            logits = logits[:, -1, :] # becomes (B, C)\n",
    "            # apply softmax to get probabilities\n",
    "            probs = F.softmax(logits, dim=-1) # (B, C)\n",
    "            # sample from the distribution\n",
    "            idx_next = torch.multinomial(probs, num_samples=1) # (B, 1)\n",
    "            # append sampled index to the running sequence\n",
    "            idx = torch.cat((idx, idx_next), dim=1) # (B, T+1)\n",
    "        return idx\n",
    "\n",
    "m = BigramLanguageModel(vocab_size)\n",
    "logits, loss = m(xb, yb)\n",
    "print(logits.shape)\n",
    "print(loss)\n",
    "\n",
    "print(decode(m.generate(idx = torch.zeros((1, 1), dtype=torch.long), max_new_tokens=100)[0].tolist()))\n"
   ]
  },
  {
   "cell_type": "code",
   "execution_count": null,
   "metadata": {},
   "outputs": [],
   "source": [
    "# create a PyTorch optimizer\n",
    "optimizer = torch.optim.AdamW(m.parameters(), lr=1e-3)\n",
    "\n",
    "batch_size = 32\n",
    "for steps in range(100): # increase number of steps for good results...\n",
    "\n",
    "    # sample a batch of data\n",
    "    xb, yb = get_batch('train')\n",
    "\n",
    "    # evaluate the loss\n",
    "    logits, loss = m(xb, yb)\n",
    "    optimizer.zero_grad(set_to_none=True)\n",
    "    loss.backward()\n",
    "    optimizer.step()\n",
    "\n",
    "print(loss.item())\n"
   ]
  }
 ],
 "metadata": {
  "kernelspec": {
   "display_name": "Python 3",
   "language": "python",
   "name": "python3"
  },
  "language_info": {
   "codemirror_mode": {
    "name": "ipython",
    "version": 3
   },
   "file_extension": ".py",
   "mimetype": "text/x-python",
   "name": "python",
   "nbconvert_exporter": "python",
   "pygments_lexer": "ipython3",
   "version": "3.10.12"
  }
 },
 "nbformat": 4,
 "nbformat_minor": 2
}
